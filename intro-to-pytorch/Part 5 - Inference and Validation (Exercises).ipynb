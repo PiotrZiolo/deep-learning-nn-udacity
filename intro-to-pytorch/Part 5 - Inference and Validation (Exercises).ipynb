{
 "cells": [
  {
   "cell_type": "markdown",
   "metadata": {},
   "source": [
    "# Inference and Validation\n",
    "\n",
    "Now that you have a trained network, you can use it for making predictions. This is typically called **inference**, a term borrowed from statistics. However, neural networks have a tendency to perform *too well* on the training data and aren't able to generalize to data that hasn't been seen before. This is called **overfitting** and it impairs inference performance. To test for overfitting while training, we measure the performance on data not in the training set called the **validation** set. We avoid overfitting through regularization such as dropout while monitoring the validation performance during training. In this notebook, I'll show you how to do this in PyTorch. \n",
    "\n",
    "As usual, let's start by loading the dataset through torchvision. You'll learn more about torchvision and loading data in a later part. This time we'll be taking advantage of the test set which you can get by setting `train=False` here:\n",
    "\n",
    "```python\n",
    "testset = datasets.FashionMNIST('~/.pytorch/F_MNIST_data/', download=True, train=False, transform=transform)\n",
    "```\n",
    "\n",
    "The test set contains images just like the training set. Typically you'll see 10-20% of the original dataset held out for testing and validation with the rest being used for training."
   ]
  },
  {
   "cell_type": "code",
   "execution_count": 9,
   "metadata": {},
   "outputs": [],
   "source": [
    "import torch\n",
    "from torchvision import datasets, transforms\n",
    "\n",
    "# Define a transform to normalize the data\n",
    "transform = transforms.Compose([transforms.ToTensor(),\n",
    "                                transforms.Normalize((0.5,), (0.5,))])\n",
    "# Download and load the training data\n",
    "trainset = datasets.FashionMNIST('~/.pytorch/F_MNIST_data/', download=True, train=True, transform=transform)\n",
    "trainloader = torch.utils.data.DataLoader(trainset, batch_size=64, shuffle=True)\n",
    "\n",
    "# Download and load the test data\n",
    "testset = datasets.FashionMNIST('~/.pytorch/F_MNIST_data/', download=True, train=False, transform=transform)\n",
    "testloader = torch.utils.data.DataLoader(testset, batch_size=64, shuffle=True)"
   ]
  },
  {
   "cell_type": "markdown",
   "metadata": {},
   "source": [
    "Here I'll create a model like normal, using the same one from my solution for part 4."
   ]
  },
  {
   "cell_type": "code",
   "execution_count": 10,
   "metadata": {},
   "outputs": [],
   "source": [
    "from torch import nn, optim\n",
    "import torch.nn.functional as F\n",
    "\n",
    "class Classifier(nn.Module):\n",
    "    def __init__(self):\n",
    "        super().__init__()\n",
    "        self.fc1 = nn.Linear(784, 256)\n",
    "        self.fc2 = nn.Linear(256, 128)\n",
    "        self.fc3 = nn.Linear(128, 64)\n",
    "        self.fc4 = nn.Linear(64, 10)\n",
    "        \n",
    "    def forward(self, x):\n",
    "        # make sure input tensor is flattened\n",
    "        x = x.view(x.shape[0], -1)\n",
    "        \n",
    "        x = F.relu(self.fc1(x))\n",
    "        x = F.relu(self.fc2(x))\n",
    "        x = F.relu(self.fc3(x))\n",
    "        x = F.log_softmax(self.fc4(x), dim=1)\n",
    "        \n",
    "        return x"
   ]
  },
  {
   "cell_type": "markdown",
   "metadata": {},
   "source": [
    "The goal of validation is to measure the model's performance on data that isn't part of the training set. Performance here is up to the developer to define though. Typically this is just accuracy, the percentage of classes the network predicted correctly. Other options are [precision and recall](https://en.wikipedia.org/wiki/Precision_and_recall#Definition_(classification_context)) and top-5 error rate. We'll focus on accuracy here. First I'll do a forward pass with one batch from the test set."
   ]
  },
  {
   "cell_type": "code",
   "execution_count": 11,
   "metadata": {},
   "outputs": [
    {
     "name": "stdout",
     "output_type": "stream",
     "text": [
      "torch.Size([64, 10])\n"
     ]
    }
   ],
   "source": [
    "model = Classifier()\n",
    "\n",
    "images, labels = next(iter(testloader))\n",
    "# Get the class probabilities\n",
    "ps = torch.exp(model(images))\n",
    "# Make sure the shape is appropriate, we should get 10 class probabilities for 64 examples\n",
    "print(ps.shape)"
   ]
  },
  {
   "cell_type": "markdown",
   "metadata": {},
   "source": [
    "With the probabilities, we can get the most likely class using the `ps.topk` method. This returns the $k$ highest values. Since we just want the most likely class, we can use `ps.topk(1)`. This returns a tuple of the top-$k$ values and the top-$k$ indices. If the highest value is the fifth element, we'll get back 4 as the index."
   ]
  },
  {
   "cell_type": "code",
   "execution_count": 12,
   "metadata": {},
   "outputs": [
    {
     "name": "stdout",
     "output_type": "stream",
     "text": [
      "tensor([[0],\n",
      "        [0],\n",
      "        [0],\n",
      "        [0],\n",
      "        [0],\n",
      "        [0],\n",
      "        [0],\n",
      "        [0],\n",
      "        [0],\n",
      "        [0]])\n"
     ]
    }
   ],
   "source": [
    "top_p, top_class = ps.topk(1, dim=1)\n",
    "# Look at the most likely classes for the first 10 examples\n",
    "print(top_class[:10,:])"
   ]
  },
  {
   "cell_type": "markdown",
   "metadata": {},
   "source": [
    "Now we can check if the predicted classes match the labels. This is simple to do by equating `top_class` and `labels`, but we have to be careful of the shapes. Here `top_class` is a 2D tensor with shape `(64, 1)` while `labels` is 1D with shape `(64)`. To get the equality to work out the way we want, `top_class` and `labels` must have the same shape.\n",
    "\n",
    "If we do\n",
    "\n",
    "```python\n",
    "equals = top_class == labels\n",
    "```\n",
    "\n",
    "`equals` will have shape `(64, 64)`, try it yourself. What it's doing is comparing the one element in each row of `top_class` with each element in `labels` which returns 64 True/False boolean values for each row."
   ]
  },
  {
   "cell_type": "code",
   "execution_count": 13,
   "metadata": {},
   "outputs": [],
   "source": [
    "equals = top_class == labels.reshape((*top_class.shape))"
   ]
  },
  {
   "cell_type": "markdown",
   "metadata": {},
   "source": [
    "Now we need to calculate the percentage of correct predictions. `equals` has binary values, either 0 or 1. This means that if we just sum up all the values and divide by the number of values, we get the percentage of correct predictions. This is the same operation as taking the mean, so we can get the accuracy with a call to `torch.mean`. If only it was that simple. If you try `torch.mean(equals)`, you'll get an error\n",
    "\n",
    "```\n",
    "RuntimeError: mean is not implemented for type torch.ByteTensor\n",
    "```\n",
    "\n",
    "This happens because `equals` has type `torch.ByteTensor` but `torch.mean` isn't implemented for tensors with that type. So we'll need to convert `equals` to a float tensor. Note that when we take `torch.mean` it returns a scalar tensor, to get the actual value as a float we'll need to do `accuracy.item()`."
   ]
  },
  {
   "cell_type": "code",
   "execution_count": 14,
   "metadata": {},
   "outputs": [
    {
     "name": "stdout",
     "output_type": "stream",
     "text": [
      "Accuracy: 6.25%\n"
     ]
    }
   ],
   "source": [
    "accuracy = torch.mean(equals.type(torch.FloatTensor))\n",
    "print(f'Accuracy: {accuracy.item()*100}%')"
   ]
  },
  {
   "cell_type": "markdown",
   "metadata": {},
   "source": [
    "The network is untrained so it's making random guesses and we should see an accuracy around 10%. Now let's train our network and include our validation pass so we can measure how well the network is performing on the test set. Since we're not updating our parameters in the validation pass, we can speed up our code by turning off gradients using `torch.no_grad()`:\n",
    "\n",
    "```python\n",
    "# turn off gradients\n",
    "with torch.no_grad():\n",
    "    # validation pass here\n",
    "    for images, labels in testloader:\n",
    "        ...\n",
    "```\n",
    "\n",
    ">**Exercise:** Implement the validation loop below and print out the total accuracy after the loop. You can largely copy and paste the code from above, but I suggest typing it in because writing it out yourself is essential for building the skill. In general you'll always learn more by typing it rather than copy-pasting. You should be able to get an accuracy above 80%."
   ]
  },
  {
   "cell_type": "code",
   "execution_count": 21,
   "metadata": {},
   "outputs": [
    {
     "name": "stdout",
     "output_type": "stream",
     "text": [
      "Epoch 1\n",
      "Accuracy: 83.13000202178955%\n",
      "Training loss: 0.517834280552005\n",
      "Test loss: 0.47555014348713454\n",
      "Epoch 2\n",
      "Accuracy: 85.25999784469604%\n",
      "Training loss: 0.38912381838633814\n",
      "Test loss: 0.4195913240598266\n",
      "Epoch 3\n",
      "Accuracy: 86.03000044822693%\n",
      "Training loss: 0.3547503288144242\n",
      "Test loss: 0.39132479402669673\n",
      "Epoch 4\n",
      "Accuracy: 86.90000176429749%\n",
      "Training loss: 0.3296757827022437\n",
      "Test loss: 0.3660613520509878\n",
      "Epoch 5\n",
      "Accuracy: 86.34999990463257%\n",
      "Training loss: 0.31105785561141686\n",
      "Test loss: 0.3908590009068228\n",
      "Epoch 6\n",
      "Accuracy: 86.2500011920929%\n",
      "Training loss: 0.3007161236965834\n",
      "Test loss: 0.41205261666683635\n",
      "Epoch 7\n",
      "Accuracy: 87.22000122070312%\n",
      "Training loss: 0.2884626301891133\n",
      "Test loss: 0.36325328536094376\n",
      "Epoch 8\n",
      "Accuracy: 87.01000213623047%\n",
      "Training loss: 0.27968159497483197\n",
      "Test loss: 0.363903068433142\n",
      "Epoch 9\n",
      "Accuracy: 87.77999877929688%\n",
      "Training loss: 0.2722940842098773\n",
      "Test loss: 0.36895034547634187\n",
      "Epoch 10\n",
      "Accuracy: 86.93000078201294%\n",
      "Training loss: 0.26308511526806394\n",
      "Test loss: 0.3686303944344733\n",
      "Epoch 11\n",
      "Accuracy: 87.73000240325928%\n",
      "Training loss: 0.2592937185693143\n",
      "Test loss: 0.3681085993340061\n",
      "Epoch 12\n",
      "Accuracy: 88.0299985408783%\n",
      "Training loss: 0.2570081685763051\n",
      "Test loss: 0.36489995355439037\n",
      "Epoch 13\n",
      "Accuracy: 87.48000264167786%\n",
      "Training loss: 0.24368456361898735\n",
      "Test loss: 0.36441442982596195\n",
      "Epoch 14\n",
      "Accuracy: 87.61000037193298%\n",
      "Training loss: 0.24081964787643856\n",
      "Test loss: 0.37475662137482574\n",
      "Epoch 15\n",
      "Accuracy: 87.58999705314636%\n",
      "Training loss: 0.23339598656479102\n",
      "Test loss: 0.383364101314241\n",
      "Epoch 16\n",
      "Accuracy: 87.45999932289124%\n",
      "Training loss: 0.22914299483238254\n",
      "Test loss: 0.4053703675129611\n",
      "Epoch 17\n",
      "Accuracy: 86.8399977684021%\n",
      "Training loss: 0.22957342893266475\n",
      "Test loss: 0.41747796753789207\n",
      "Epoch 18\n",
      "Accuracy: 88.01000118255615%\n",
      "Training loss: 0.22579673950526633\n",
      "Test loss: 0.359430136384478\n",
      "Epoch 19\n",
      "Accuracy: 87.58999705314636%\n",
      "Training loss: 0.21650557456287875\n",
      "Test loss: 0.38813129029456217\n",
      "Epoch 20\n",
      "Accuracy: 87.6200020313263%\n",
      "Training loss: 0.21146438131406745\n",
      "Test loss: 0.39097460705763215\n",
      "Epoch 21\n",
      "Accuracy: 87.98999786376953%\n",
      "Training loss: 0.21556702850739967\n",
      "Test loss: 0.38096118599745876\n",
      "Epoch 22\n",
      "Accuracy: 88.16999793052673%\n",
      "Training loss: 0.20739672457310818\n",
      "Test loss: 0.387973354595482\n",
      "Epoch 23\n",
      "Accuracy: 88.77999782562256%\n",
      "Training loss: 0.20142198520809856\n",
      "Test loss: 0.3786569813824004\n",
      "Epoch 24\n",
      "Accuracy: 87.72000074386597%\n",
      "Training loss: 0.20765846285389175\n",
      "Test loss: 0.4057487211409648\n",
      "Epoch 25\n",
      "Accuracy: 87.83000111579895%\n",
      "Training loss: 0.19466049784123263\n",
      "Test loss: 0.3976059274119177\n",
      "Epoch 26\n",
      "Accuracy: 88.28999996185303%\n",
      "Training loss: 0.20020123972281464\n",
      "Test loss: 0.3913059648672107\n",
      "Epoch 27\n",
      "Accuracy: 87.59999871253967%\n",
      "Training loss: 0.19068064172464266\n",
      "Test loss: 0.43981386094715946\n",
      "Epoch 28\n",
      "Accuracy: 87.94000148773193%\n",
      "Training loss: 0.19336122544462492\n",
      "Test loss: 0.39901340392174994\n",
      "Epoch 29\n",
      "Accuracy: 88.7499988079071%\n",
      "Training loss: 0.1848055664410215\n",
      "Test loss: 0.3850019219669567\n",
      "Epoch 30\n",
      "Accuracy: 88.05000185966492%\n",
      "Training loss: 0.19408012344352982\n",
      "Test loss: 0.4140743892758515\n"
     ]
    }
   ],
   "source": [
    "model = Classifier()\n",
    "criterion = nn.NLLLoss()\n",
    "optimizer = optim.Adam(model.parameters(), lr=0.003)\n",
    "\n",
    "epochs = 30\n",
    "steps = 0\n",
    "\n",
    "train_losses, test_losses = [], []\n",
    "for e in range(epochs):\n",
    "    print(\"Epoch {}\".format(e+1))\n",
    "    running_loss_training = 0\n",
    "    running_loss_test = 0\n",
    "    for images, labels in trainloader:\n",
    "        \n",
    "        optimizer.zero_grad()\n",
    "        \n",
    "        log_ps = model(images)\n",
    "        loss = criterion(log_ps, labels)\n",
    "        loss.backward()\n",
    "        optimizer.step()\n",
    "        \n",
    "        running_loss_training += loss.item()\n",
    "        \n",
    "    else:\n",
    "        with torch.no_grad():\n",
    "            ## TODO: Implement the validation pass and print out the validation accuracy\n",
    "            all_results = []\n",
    "            for images, labels in testloader:\n",
    "                log_ps = model(images)\n",
    "                loss = criterion(log_ps, labels)\n",
    "                running_loss_test += loss.item()\n",
    "                \n",
    "                ps = torch.exp(log_ps)\n",
    "                \n",
    "                top_p, top_class = ps.topk(1, dim=1)\n",
    "                equals = top_class == labels.reshape((*top_class.shape))\n",
    "                all_results.append(equals)\n",
    "            all_results = torch.cat(all_results)\n",
    "            accuracy = torch.mean(all_results.type(torch.FloatTensor))\n",
    "            print(f'Accuracy: {accuracy.item()*100}%')\n",
    "    \n",
    "    print(\"Training loss: {}\".format(running_loss_training / len(trainloader)))\n",
    "    print(\"Test loss: {}\".format(running_loss_test / len(testloader)))\n",
    "    train_losses.append(running_loss_training / len(trainloader))\n",
    "    test_losses.append(running_loss_test / len(testloader))"
   ]
  },
  {
   "cell_type": "code",
   "execution_count": 22,
   "metadata": {},
   "outputs": [],
   "source": [
    "%matplotlib inline\n",
    "%config InlineBackend.figure_format = 'retina'\n",
    "\n",
    "import matplotlib.pyplot as plt"
   ]
  },
  {
   "cell_type": "code",
   "execution_count": 23,
   "metadata": {},
   "outputs": [
    {
     "data": {
      "text/plain": [
       "<matplotlib.legend.Legend at 0x16b08a026d8>"
      ]
     },
     "execution_count": 23,
     "metadata": {},
     "output_type": "execute_result"
    },
    {
     "data": {
      "image/png": "[encoded data removed]",
      "text/plain": [
       "<Figure size 432x288 with 1 Axes>"
      ]
     },
     "metadata": {
      "image/png": {
       "height": 250,
       "width": 380
      }
     },
     "output_type": "display_data"
    }
   ],
   "source": [
    "plt.plot(train_losses, label=\"Training loss\")\n",
    "plt.plot(test_losses, label=\"Test loss\")\n",
    "plt.legend(frameon=False)"
   ]
  },
  {
   "cell_type": "markdown",
   "metadata": {},
   "source": [
    "## Overfitting\n",
    "\n",
    "If we look at the training and validation losses as we train the network, we can see a phenomenon known as overfitting.\n",
    "\n",
    "<img src='assets/overfitting.png' width=450px>\n",
    "\n",
    "The network learns the training set better and better, resulting in lower training losses. However, it starts having problems generalizing to data outside the training set leading to the validation loss increasing. The ultimate goal of any deep learning model is to make predictions on new data, so we should strive to get the lowest validation loss possible. One option is to use the version of the model with the lowest validation loss, here the one around 8-10 training epochs. This strategy is called *early-stopping*. In practice, you'd save the model frequently as you're training then later choose the model with the lowest validation loss.\n",
    "\n",
    "The most common method to reduce overfitting (outside of early-stopping) is *dropout*, where we randomly drop input units. This forces the network to share information between weights, increasing it's ability to generalize to new data. Adding dropout in PyTorch is straightforward using the [`nn.Dropout`](https://pytorch.org/docs/stable/nn.html#torch.nn.Dropout) module.\n",
    "\n",
    "```python\n",
    "class Classifier(nn.Module):\n",
    "    def __init__(self):\n",
    "        super().__init__()\n",
    "        self.fc1 = nn.Linear(784, 256)\n",
    "        self.fc2 = nn.Linear(256, 128)\n",
    "        self.fc3 = nn.Linear(128, 64)\n",
    "        self.fc4 = nn.Linear(64, 10)\n",
    "        \n",
    "        # Dropout module with 0.2 drop probability\n",
    "        self.dropout = nn.Dropout(p=0.2)\n",
    "        \n",
    "    def forward(self, x):\n",
    "        # make sure input tensor is flattened\n",
    "        x = x.view(x.shape[0], -1)\n",
    "        \n",
    "        # Now with dropout\n",
    "        x = self.dropout(F.relu(self.fc1(x)))\n",
    "        x = self.dropout(F.relu(self.fc2(x)))\n",
    "        x = self.dropout(F.relu(self.fc3(x)))\n",
    "        \n",
    "        # output so no dropout here\n",
    "        x = F.log_softmax(self.fc4(x), dim=1)\n",
    "        \n",
    "        return x\n",
    "```\n",
    "\n",
    "During training we want to use dropout to prevent overfitting, but during inference we want to use the entire network. So, we need to turn off dropout during validation, testing, and whenever we're using the network to make predictions. To do this, you use `model.eval()`. This sets the model to evaluation mode where the dropout probability is 0. You can turn dropout back on by setting the model to train mode with `model.train()`. In general, the pattern for the validation loop will look like this, where you turn off gradients, set the model to evaluation mode, calculate the validation loss and metric, then set the model back to train mode.\n",
    "\n",
    "```python\n",
    "# turn off gradients\n",
    "with torch.no_grad():\n",
    "    \n",
    "    # set model to evaluation mode\n",
    "    model.eval()\n",
    "    \n",
    "    # validation pass here\n",
    "    for images, labels in testloader:\n",
    "        ...\n",
    "\n",
    "# set model back to train mode\n",
    "model.train()\n",
    "```"
   ]
  },
  {
   "cell_type": "markdown",
   "metadata": {},
   "source": [
    "> **Exercise:** Add dropout to your model and train it on Fashion-MNIST again. See if you can get a lower validation loss or higher accuracy."
   ]
  },
  {
   "cell_type": "code",
   "execution_count": 25,
   "metadata": {},
   "outputs": [],
   "source": [
    "## TODO: Define your model with dropout added\n",
    "class Classifier(nn.Module):\n",
    "    def __init__(self):\n",
    "        super().__init__()\n",
    "        self.fc1 = nn.Linear(784, 256)\n",
    "        self.fc2 = nn.Linear(256, 128)\n",
    "        self.fc3 = nn.Linear(128, 64)\n",
    "        self.fc4 = nn.Linear(64, 10)\n",
    "        \n",
    "        self.dropout = nn.Dropout(p=0.2)\n",
    "        \n",
    "    def forward(self, x):\n",
    "        # make sure input tensor is flattened\n",
    "        x = x.view(x.shape[0], -1)\n",
    "        \n",
    "        x = self.dropout(F.relu(self.fc1(x)))\n",
    "        x = self.dropout(F.relu(self.fc2(x)))\n",
    "        x = self.dropout(F.relu(self.fc3(x)))\n",
    "        x = F.log_softmax(self.fc4(x), dim=1)\n",
    "        \n",
    "        return x"
   ]
  },
  {
   "cell_type": "code",
   "execution_count": 26,
   "metadata": {},
   "outputs": [
    {
     "name": "stdout",
     "output_type": "stream",
     "text": [
      "Epoch 1\n",
      "Accuracy: 82.69000053405762%\n",
      "Training loss: 0.6095159580267823\n",
      "Test loss: 0.48923655945783967\n",
      "Epoch 2\n",
      "Accuracy: 83.3899974822998%\n",
      "Training loss: 0.4804090758853121\n",
      "Test loss: 0.4482185352759756\n",
      "Epoch 3\n",
      "Accuracy: 83.95000100135803%\n",
      "Training loss: 0.45416275429318964\n",
      "Test loss: 0.44166680885728\n",
      "Epoch 4\n",
      "Accuracy: 85.14999747276306%\n",
      "Training loss: 0.4339534953744935\n",
      "Test loss: 0.4153634624876035\n",
      "Epoch 5\n",
      "Accuracy: 85.61000227928162%\n",
      "Training loss: 0.4233532638501511\n",
      "Test loss: 0.4186822536644662\n",
      "Epoch 6\n",
      "Accuracy: 86.0700011253357%\n",
      "Training loss: 0.4088297565259151\n",
      "Test loss: 0.3881216256102179\n",
      "Epoch 7\n",
      "Accuracy: 85.68000197410583%\n",
      "Training loss: 0.40804592165738535\n",
      "Test loss: 0.4016407535524125\n",
      "Epoch 8\n",
      "Accuracy: 86.08999848365784%\n",
      "Training loss: 0.3988596557585924\n",
      "Test loss: 0.3986357869046509\n",
      "Epoch 9\n",
      "Accuracy: 86.57000064849854%\n",
      "Training loss: 0.3900130498590373\n",
      "Test loss: 0.3760275419350642\n",
      "Epoch 10\n",
      "Accuracy: 85.82000136375427%\n",
      "Training loss: 0.3869396161867866\n",
      "Test loss: 0.404771319525257\n",
      "Epoch 11\n",
      "Accuracy: 85.86999773979187%\n",
      "Training loss: 0.3824815158285439\n",
      "Test loss: 0.39928589286697896\n",
      "Epoch 12\n",
      "Accuracy: 86.77999973297119%\n",
      "Training loss: 0.38405328590287835\n",
      "Test loss: 0.37985765478413575\n",
      "Epoch 13\n",
      "Accuracy: 86.59999966621399%\n",
      "Training loss: 0.3822797112532262\n",
      "Test loss: 0.4012941198933656\n",
      "Epoch 14\n",
      "Accuracy: 87.04000115394592%\n",
      "Training loss: 0.37327242865046456\n",
      "Test loss: 0.36470955088260065\n",
      "Epoch 15\n",
      "Accuracy: 87.05999851226807%\n",
      "Training loss: 0.3713032672686109\n",
      "Test loss: 0.39211564444622415\n",
      "Epoch 16\n",
      "Accuracy: 87.45999932289124%\n",
      "Training loss: 0.37079863165264954\n",
      "Test loss: 0.3638760125750949\n",
      "Epoch 17\n",
      "Accuracy: 87.05999851226807%\n",
      "Training loss: 0.36154274976075584\n",
      "Test loss: 0.395118509033683\n",
      "Epoch 18\n",
      "Accuracy: 87.00000047683716%\n",
      "Training loss: 0.3673686562125871\n",
      "Test loss: 0.3786033324565098\n",
      "Epoch 19\n",
      "Accuracy: 86.4799976348877%\n",
      "Training loss: 0.36183442680566297\n",
      "Test loss: 0.3981078358212854\n",
      "Epoch 20\n",
      "Accuracy: 86.89000010490417%\n",
      "Training loss: 0.3611130675257269\n",
      "Test loss: 0.37509699032944477\n",
      "Epoch 21\n",
      "Accuracy: 87.76000142097473%\n",
      "Training loss: 0.36195452750396373\n",
      "Test loss: 0.37219110985470427\n",
      "Epoch 22\n",
      "Accuracy: 86.86000108718872%\n",
      "Training loss: 0.3561455662777302\n",
      "Test loss: 0.3848726762707826\n",
      "Epoch 23\n",
      "Accuracy: 86.6100013256073%\n",
      "Training loss: 0.3575465230942408\n",
      "Test loss: 0.36946258636986373\n",
      "Epoch 24\n",
      "Accuracy: 87.1999979019165%\n",
      "Training loss: 0.3550930825203085\n",
      "Test loss: 0.387853372486154\n",
      "Epoch 25\n",
      "Accuracy: 87.08999752998352%\n",
      "Training loss: 0.3507438425316231\n",
      "Test loss: 0.38958188625657636\n",
      "Epoch 26\n",
      "Accuracy: 86.79999709129333%\n",
      "Training loss: 0.3572491261560017\n",
      "Test loss: 0.3801298971009103\n",
      "Epoch 27\n",
      "Accuracy: 87.51999735832214%\n",
      "Training loss: 0.3496837700719137\n",
      "Test loss: 0.3783048051083164\n",
      "Epoch 28\n",
      "Accuracy: 87.62999773025513%\n",
      "Training loss: 0.34869795208419563\n",
      "Test loss: 0.37869791990252816\n",
      "Epoch 29\n",
      "Accuracy: 87.12000250816345%\n",
      "Training loss: 0.350395818111866\n",
      "Test loss: 0.3767877574179583\n",
      "Epoch 30\n",
      "Accuracy: 86.68000102043152%\n",
      "Training loss: 0.3455060634658789\n",
      "Test loss: 0.4056694386111703\n"
     ]
    },
    {
     "data": {
      "text/plain": [
       "<matplotlib.legend.Legend at 0x16b08b21748>"
      ]
     },
     "execution_count": 26,
     "metadata": {},
     "output_type": "execute_result"
    },
    {
     "data": {
      "image/png": "[encoded data removed]",
      "text/plain": [
       "<Figure size 432x288 with 1 Axes>"
      ]
     },
     "metadata": {
      "image/png": {
       "height": 250,
       "width": 380
      }
     },
     "output_type": "display_data"
    }
   ],
   "source": [
    "## TODO: Train your model with dropout, and monitor the training progress with the validation loss and accuracy\n",
    "\n",
    "model = Classifier()\n",
    "criterion = nn.NLLLoss()\n",
    "optimizer = optim.Adam(model.parameters(), lr=0.003)\n",
    "\n",
    "epochs = 30\n",
    "steps = 0\n",
    "\n",
    "train_losses, test_losses = [], []\n",
    "for e in range(epochs):\n",
    "    print(\"Epoch {}\".format(e+1))\n",
    "    running_loss_training = 0\n",
    "    running_loss_test = 0\n",
    "    for images, labels in trainloader:\n",
    "        \n",
    "        optimizer.zero_grad()\n",
    "        \n",
    "        log_ps = model(images)\n",
    "        loss = criterion(log_ps, labels)\n",
    "        loss.backward()\n",
    "        optimizer.step()\n",
    "        \n",
    "        running_loss_training += loss.item()\n",
    "        \n",
    "    else:\n",
    "        with torch.no_grad():\n",
    "            model.eval()\n",
    "            ## TODO: Implement the validation pass and print out the validation accuracy\n",
    "            all_results = []\n",
    "            for images, labels in testloader:\n",
    "                log_ps = model(images)\n",
    "                loss = criterion(log_ps, labels)\n",
    "                running_loss_test += loss.item()\n",
    "                \n",
    "                ps = torch.exp(log_ps)\n",
    "                \n",
    "                top_p, top_class = ps.topk(1, dim=1)\n",
    "                equals = top_class == labels.reshape((*top_class.shape))\n",
    "                all_results.append(equals)\n",
    "            all_results = torch.cat(all_results)\n",
    "            accuracy = torch.mean(all_results.type(torch.FloatTensor))\n",
    "            print(f'Accuracy: {accuracy.item()*100}%')\n",
    "        \n",
    "        model.train()\n",
    "    \n",
    "    print(\"Training loss: {}\".format(running_loss_training / len(trainloader)))\n",
    "    print(\"Test loss: {}\".format(running_loss_test / len(testloader)))\n",
    "    train_losses.append(running_loss_training / len(trainloader))\n",
    "    test_losses.append(running_loss_test / len(testloader))\n",
    "    \n",
    "plt.plot(train_losses, label=\"Training loss\")\n",
    "plt.plot(test_losses, label=\"Test loss\")\n",
    "plt.legend(frameon=False)"
   ]
  },
  {
   "cell_type": "markdown",
   "metadata": {},
   "source": [
    "## Inference\n",
    "\n",
    "Now that the model is trained, we can use it for inference. We've done this before, but now we need to remember to set the model in inference mode with `model.eval()`. You'll also want to turn off autograd with the `torch.no_grad()` context."
   ]
  },
  {
   "cell_type": "code",
   "execution_count": 34,
   "metadata": {},
   "outputs": [
    {
     "data": {
      "image/png": "[encoded data removed]",
      "text/plain": [
       "<Figure size 432x648 with 2 Axes>"
      ]
     },
     "metadata": {
      "image/png": {
       "height": 204,
       "width": 423
      }
     },
     "output_type": "display_data"
    }
   ],
   "source": [
    "# Import helper module (should be in the repo)\n",
    "import helper\n",
    "\n",
    "# Test out your network!\n",
    "\n",
    "model.eval()\n",
    "\n",
    "dataiter = iter(testloader)\n",
    "images, labels = dataiter.next()\n",
    "img = images[0]\n",
    "# Convert 2D image to 1D vector\n",
    "img = img.view(1, 784)\n",
    "\n",
    "# Calculate the class probabilities (softmax) for img\n",
    "with torch.no_grad():\n",
    "    output = model.forward(img)\n",
    "\n",
    "ps = torch.exp(output)\n",
    "\n",
    "# Plot the image and probabilities\n",
    "helper.view_classify(img.view(1, 28, 28), ps, version='Fashion')"
   ]
  },
  {
   "cell_type": "markdown",
   "metadata": {},
   "source": [
    "## Next Up!\n",
    "\n",
    "In the next part, I'll show you how to save your trained models. In general, you won't want to train a model everytime you need it. Instead, you'll train once, save it, then load the model when you want to train more or use if for inference."
   ]
  }
 ],
 "metadata": {
  "kernelspec": {
   "display_name": "Python 3",
   "language": "python",
   "name": "python3"
  },
  "language_info": {
   "codemirror_mode": {
    "name": "ipython",
    "version": 3
   },
   "file_extension": ".py",
   "mimetype": "text/x-python",
   "name": "python",
   "nbconvert_exporter": "python",
   "pygments_lexer": "ipython3",
   "version": "3.6.8"
  }
 },
 "nbformat": 4,
 "nbformat_minor": 2
}
